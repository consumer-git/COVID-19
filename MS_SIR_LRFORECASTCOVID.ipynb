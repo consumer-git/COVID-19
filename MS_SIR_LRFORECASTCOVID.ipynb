{
 "cells": [
  {
   "cell_type": "code",
   "execution_count": 12,
   "metadata": {},
   "outputs": [],
   "source": [
    "import numpy as np \n",
    "import pandas as pd "
   ]
  },
  {
   "cell_type": "code",
   "execution_count": 13,
   "metadata": {},
   "outputs": [],
   "source": [
    "df_state=pd.read_csv('/Users/merrillsequeira/Google Drive/COVID_DATA/statewisetesting/covid_19_india.csv')\n",
    "df_vax=pd.read_csv('/Users/merrillsequeira/Google Drive/COVID_DATA/statewisetesting/covid_vaccine_statewise.csv')\n",
    "df_state_testing=pd.read_csv('/Users/merrillsequeira/Google Drive/COVID_DATA/statewisetesting/StatewiseTestingDetails.csv')"
   ]
  },
  {
   "cell_type": "code",
   "execution_count": 14,
   "metadata": {},
   "outputs": [],
   "source": [
    "df_for=pd.read_csv('/Users/merrillsequeira/Google Drive/COVID_DATA/covid19-global-forecasting-week-4/train.csv') "
   ]
  },
  {
   "cell_type": "code",
   "execution_count": 16,
   "metadata": {
    "scrolled": false
   },
   "outputs": [
    {
     "data": {
      "text/html": [
       "<div>\n",
       "<style scoped>\n",
       "    .dataframe tbody tr th:only-of-type {\n",
       "        vertical-align: middle;\n",
       "    }\n",
       "\n",
       "    .dataframe tbody tr th {\n",
       "        vertical-align: top;\n",
       "    }\n",
       "\n",
       "    .dataframe thead th {\n",
       "        text-align: right;\n",
       "    }\n",
       "</style>\n",
       "<table border=\"1\" class=\"dataframe\">\n",
       "  <thead>\n",
       "    <tr style=\"text-align: right;\">\n",
       "      <th></th>\n",
       "      <th>Id</th>\n",
       "      <th>Province_State</th>\n",
       "      <th>Country_Region</th>\n",
       "      <th>Date</th>\n",
       "      <th>ConfirmedCases</th>\n",
       "      <th>Fatalities</th>\n",
       "    </tr>\n",
       "  </thead>\n",
       "  <tbody>\n",
       "    <tr>\n",
       "      <th>0</th>\n",
       "      <td>1</td>\n",
       "      <td>None</td>\n",
       "      <td>Afghanistan</td>\n",
       "      <td>2020-01-22</td>\n",
       "      <td>0.0</td>\n",
       "      <td>0.0</td>\n",
       "    </tr>\n",
       "    <tr>\n",
       "      <th>1</th>\n",
       "      <td>2</td>\n",
       "      <td>None</td>\n",
       "      <td>Afghanistan</td>\n",
       "      <td>2020-01-23</td>\n",
       "      <td>0.0</td>\n",
       "      <td>0.0</td>\n",
       "    </tr>\n",
       "    <tr>\n",
       "      <th>2</th>\n",
       "      <td>3</td>\n",
       "      <td>None</td>\n",
       "      <td>Afghanistan</td>\n",
       "      <td>2020-01-24</td>\n",
       "      <td>0.0</td>\n",
       "      <td>0.0</td>\n",
       "    </tr>\n",
       "    <tr>\n",
       "      <th>3</th>\n",
       "      <td>4</td>\n",
       "      <td>None</td>\n",
       "      <td>Afghanistan</td>\n",
       "      <td>2020-01-25</td>\n",
       "      <td>0.0</td>\n",
       "      <td>0.0</td>\n",
       "    </tr>\n",
       "    <tr>\n",
       "      <th>4</th>\n",
       "      <td>5</td>\n",
       "      <td>None</td>\n",
       "      <td>Afghanistan</td>\n",
       "      <td>2020-01-26</td>\n",
       "      <td>0.0</td>\n",
       "      <td>0.0</td>\n",
       "    </tr>\n",
       "  </tbody>\n",
       "</table>\n",
       "</div>"
      ],
      "text/plain": [
       "   Id Province_State Country_Region        Date  ConfirmedCases  Fatalities\n",
       "0   1           None    Afghanistan  2020-01-22             0.0         0.0\n",
       "1   2           None    Afghanistan  2020-01-23             0.0         0.0\n",
       "2   3           None    Afghanistan  2020-01-24             0.0         0.0\n",
       "3   4           None    Afghanistan  2020-01-25             0.0         0.0\n",
       "4   5           None    Afghanistan  2020-01-26             0.0         0.0"
      ]
     },
     "metadata": {},
     "output_type": "display_data"
    },
    {
     "data": {
      "text/html": [
       "<div>\n",
       "<style scoped>\n",
       "    .dataframe tbody tr th:only-of-type {\n",
       "        vertical-align: middle;\n",
       "    }\n",
       "\n",
       "    .dataframe tbody tr th {\n",
       "        vertical-align: top;\n",
       "    }\n",
       "\n",
       "    .dataframe thead th {\n",
       "        text-align: right;\n",
       "    }\n",
       "</style>\n",
       "<table border=\"1\" class=\"dataframe\">\n",
       "  <thead>\n",
       "    <tr style=\"text-align: right;\">\n",
       "      <th></th>\n",
       "      <th>Id</th>\n",
       "      <th>ConfirmedCases</th>\n",
       "      <th>Fatalities</th>\n",
       "    </tr>\n",
       "  </thead>\n",
       "  <tbody>\n",
       "    <tr>\n",
       "      <th>count</th>\n",
       "      <td>35995.000000</td>\n",
       "      <td>35995.000000</td>\n",
       "      <td>35995.000000</td>\n",
       "    </tr>\n",
       "    <tr>\n",
       "      <th>mean</th>\n",
       "      <td>17998.000000</td>\n",
       "      <td>3683.508737</td>\n",
       "      <td>243.560217</td>\n",
       "    </tr>\n",
       "    <tr>\n",
       "      <th>std</th>\n",
       "      <td>10391.005806</td>\n",
       "      <td>18986.978708</td>\n",
       "      <td>1832.966999</td>\n",
       "    </tr>\n",
       "    <tr>\n",
       "      <th>min</th>\n",
       "      <td>1.000000</td>\n",
       "      <td>0.000000</td>\n",
       "      <td>0.000000</td>\n",
       "    </tr>\n",
       "    <tr>\n",
       "      <th>25%</th>\n",
       "      <td>8999.500000</td>\n",
       "      <td>0.000000</td>\n",
       "      <td>0.000000</td>\n",
       "    </tr>\n",
       "    <tr>\n",
       "      <th>50%</th>\n",
       "      <td>17998.000000</td>\n",
       "      <td>19.000000</td>\n",
       "      <td>0.000000</td>\n",
       "    </tr>\n",
       "    <tr>\n",
       "      <th>75%</th>\n",
       "      <td>26996.500000</td>\n",
       "      <td>543.000000</td>\n",
       "      <td>7.000000</td>\n",
       "    </tr>\n",
       "    <tr>\n",
       "      <th>max</th>\n",
       "      <td>35995.000000</td>\n",
       "      <td>345813.000000</td>\n",
       "      <td>33998.000000</td>\n",
       "    </tr>\n",
       "  </tbody>\n",
       "</table>\n",
       "</div>"
      ],
      "text/plain": [
       "                 Id  ConfirmedCases    Fatalities\n",
       "count  35995.000000    35995.000000  35995.000000\n",
       "mean   17998.000000     3683.508737    243.560217\n",
       "std    10391.005806    18986.978708   1832.966999\n",
       "min        1.000000        0.000000      0.000000\n",
       "25%     8999.500000        0.000000      0.000000\n",
       "50%    17998.000000       19.000000      0.000000\n",
       "75%    26996.500000      543.000000      7.000000\n",
       "max    35995.000000   345813.000000  33998.000000"
      ]
     },
     "metadata": {},
     "output_type": "display_data"
    },
    {
     "name": "stdout",
     "output_type": "stream",
     "text": [
      "Number of Country_Region:  184\n",
      "Dates go from day 2020-05-15 to day 2020-01-22 , a total of 115 days\n",
      "Countries with Province/State informed:  ['Australia' 'Canada' 'China' 'Denmark' 'France' 'Netherlands' 'US'\n",
      " 'United Kingdom']\n"
     ]
    }
   ],
   "source": [
    "df_for.Province_State.fillna(\"None\", inplace=True)\n",
    "display(df_for.head(5))\n",
    "display(df_for.describe())\n",
    "print(\"Number of Country_Region: \", df_for['Country_Region'].nunique())\n",
    "print(\"Dates go from day\", max(df_for['Date']), \"to day\", min(df_for['Date']), \", a total of\", df_for['Date'].nunique(), \"days\")\n",
    "print(\"Countries with Province/State informed: \", df_for.loc[df_for['Province_State']!='None']['Country_Region'].unique())"
   ]
  },
  {
   "cell_type": "code",
   "execution_count": 29,
   "metadata": {},
   "outputs": [],
   "source": [
    "filt=df_for['Country_Region']=='India'\n",
    "df2=df_for.loc[filt]"
   ]
  },
  {
   "cell_type": "code",
   "execution_count": 37,
   "metadata": {},
   "outputs": [
    {
     "data": {
      "text/html": [
       "<div>\n",
       "<style scoped>\n",
       "    .dataframe tbody tr th:only-of-type {\n",
       "        vertical-align: middle;\n",
       "    }\n",
       "\n",
       "    .dataframe tbody tr th {\n",
       "        vertical-align: top;\n",
       "    }\n",
       "\n",
       "    .dataframe thead th {\n",
       "        text-align: right;\n",
       "    }\n",
       "</style>\n",
       "<table border=\"1\" class=\"dataframe\">\n",
       "  <thead>\n",
       "    <tr style=\"text-align: right;\">\n",
       "      <th></th>\n",
       "      <th>Id</th>\n",
       "      <th>Province_State</th>\n",
       "      <th>Country_Region</th>\n",
       "      <th>Date</th>\n",
       "      <th>ConfirmedCases</th>\n",
       "      <th>Fatalities</th>\n",
       "    </tr>\n",
       "  </thead>\n",
       "  <tbody>\n",
       "    <tr>\n",
       "      <th>16100</th>\n",
       "      <td>16101</td>\n",
       "      <td>None</td>\n",
       "      <td>India</td>\n",
       "      <td>2020-01-22</td>\n",
       "      <td>0.0</td>\n",
       "      <td>0.0</td>\n",
       "    </tr>\n",
       "    <tr>\n",
       "      <th>16101</th>\n",
       "      <td>16102</td>\n",
       "      <td>None</td>\n",
       "      <td>India</td>\n",
       "      <td>2020-01-23</td>\n",
       "      <td>0.0</td>\n",
       "      <td>0.0</td>\n",
       "    </tr>\n",
       "    <tr>\n",
       "      <th>16102</th>\n",
       "      <td>16103</td>\n",
       "      <td>None</td>\n",
       "      <td>India</td>\n",
       "      <td>2020-01-24</td>\n",
       "      <td>0.0</td>\n",
       "      <td>0.0</td>\n",
       "    </tr>\n",
       "    <tr>\n",
       "      <th>16103</th>\n",
       "      <td>16104</td>\n",
       "      <td>None</td>\n",
       "      <td>India</td>\n",
       "      <td>2020-01-25</td>\n",
       "      <td>0.0</td>\n",
       "      <td>0.0</td>\n",
       "    </tr>\n",
       "    <tr>\n",
       "      <th>16104</th>\n",
       "      <td>16105</td>\n",
       "      <td>None</td>\n",
       "      <td>India</td>\n",
       "      <td>2020-01-26</td>\n",
       "      <td>0.0</td>\n",
       "      <td>0.0</td>\n",
       "    </tr>\n",
       "  </tbody>\n",
       "</table>\n",
       "</div>"
      ],
      "text/plain": [
       "          Id Province_State Country_Region        Date  ConfirmedCases  \\\n",
       "16100  16101           None          India  2020-01-22             0.0   \n",
       "16101  16102           None          India  2020-01-23             0.0   \n",
       "16102  16103           None          India  2020-01-24             0.0   \n",
       "16103  16104           None          India  2020-01-25             0.0   \n",
       "16104  16105           None          India  2020-01-26             0.0   \n",
       "\n",
       "       Fatalities  \n",
       "16100         0.0  \n",
       "16101         0.0  \n",
       "16102         0.0  \n",
       "16103         0.0  \n",
       "16104         0.0  "
      ]
     },
     "execution_count": 37,
     "metadata": {},
     "output_type": "execute_result"
    }
   ],
   "source": [
    "df2.head()"
   ]
  },
  {
   "cell_type": "code",
   "execution_count": 19,
   "metadata": {},
   "outputs": [],
   "source": [
    "import matplotlib.pyplot as plt\n",
    "import seaborn as sns\n",
    "from sklearn import preprocessing\n",
    "import time\n",
    "from datetime import datetime\n",
    "from scipy import integrate, optimize\n",
    "import warnings\n",
    "warnings.filterwarnings('ignore')\n",
    "\n",
    "# ML libraries\n",
    "# import lightgbm as lgb\n",
    "#import xgboost as xgb\n",
    "#from xgboost import plot_importance, plot_tree\n",
    "from sklearn.model_selection import RandomizedSearchCV, GridSearchCV\n",
    "from sklearn import linear_model\n",
    "from sklearn.metrics import mean_squared_error"
   ]
  },
  {
   "cell_type": "code",
   "execution_count": 20,
   "metadata": {},
   "outputs": [
    {
     "data": {
      "text/plain": [
       "Text(0.5, 0, 'Date')"
      ]
     },
     "execution_count": 20,
     "metadata": {},
     "output_type": "execute_result"
    },
    {
     "data": {
      "image/png": "[encoded data removed]",
      "text/plain": [
       "<Figure size 1224x504 with 2 Axes>"
      ]
     },
     "metadata": {
      "needs_background": "light"
     },
     "output_type": "display_data"
    }
   ],
   "source": [
    "confirmed_total_date_India = df_for[df_for['Country_Region']=='India'].groupby(['Date']).agg({'ConfirmedCases':['sum']})\n",
    "fatalities_total_date_India = df_for[df_for['Country_Region']=='India'].groupby(['Date']).agg({'Fatalities':['sum']})\n",
    "total_date_India = confirmed_total_date_India.join(fatalities_total_date_India)\n",
    "\n",
    "fig, (ax1, ax2) = plt.subplots(1, 2, figsize=(17,7))\n",
    "total_date_India.plot(ax=ax1)\n",
    "ax1.set_title(\"India confirmed cases\", size=13)\n",
    "ax1.set_ylabel(\"Number of cases\", size=13)\n",
    "ax1.set_xlabel(\"Date\", size=13)\n",
    "fatalities_total_date_India.plot(ax=ax2, color='orange')\n",
    "ax2.set_title(\"India deceased cases\", size=13)\n",
    "ax2.set_ylabel(\"Number of cases\", size=13)\n",
    "ax2.set_xlabel(\"Date\", size=13)"
   ]
  },
  {
   "cell_type": "markdown",
   "metadata": {},
   "source": [
    "SIR model can be implemented in many ways: from the differential equations governing the system, within a mean field approximation or running the dynamics in a social network (graph). For the sake of simplicity, I'vem chosen the first option, and we will simply run a numerical method (Runge-Kutta) to solve the differential equations system.\n",
    "\n",
    "The functions governing the dif.eqs. are:"
   ]
  },
  {
   "cell_type": "code",
   "execution_count": 21,
   "metadata": {},
   "outputs": [],
   "source": [
    "\n",
    "# Susceptible equation\n",
    "def fa(N, a, b, beta):\n",
    "    fa = -beta*a*b\n",
    "    return fa\n",
    "\n",
    "# Infected equation\n",
    "def fb(N, a, b, beta, gamma):\n",
    "    fb = beta*a*b - gamma*b\n",
    "    return fb\n",
    "\n",
    "# Recovered/deceased equation\n",
    "def fc(N, b, gamma):\n",
    "    fc = gamma*b\n",
    "    return fc"
   ]
  },
  {
   "cell_type": "code",
   "execution_count": 22,
   "metadata": {},
   "outputs": [],
   "source": [
    "# Runge-Kutta method of 4rth order for 3 dimensions (susceptible a, infected b and recovered r)\n",
    "def rK4(N, a, b, c, fa, fb, fc, beta, gamma, hs):\n",
    "    a1 = fa(N, a, b, beta)*hs\n",
    "    b1 = fb(N, a, b, beta, gamma)*hs\n",
    "    c1 = fc(N, b, gamma)*hs\n",
    "    ak = a + a1*0.5\n",
    "    bk = b + b1*0.5\n",
    "    ck = c + c1*0.5\n",
    "    a2 = fa(N, ak, bk, beta)*hs\n",
    "    b2 = fb(N, ak, bk, beta, gamma)*hs\n",
    "    c2 = fc(N, bk, gamma)*hs\n",
    "    ak = a + a2*0.5\n",
    "    bk = b + b2*0.5\n",
    "    ck = c + c2*0.5\n",
    "    a3 = fa(N, ak, bk, beta)*hs\n",
    "    b3 = fb(N, ak, bk, beta, gamma)*hs\n",
    "    c3 = fc(N, bk, gamma)*hs\n",
    "    ak = a + a3\n",
    "    bk = b + b3\n",
    "    ck = c + c3\n",
    "    a4 = fa(N, ak, bk, beta)*hs\n",
    "    b4 = fb(N, ak, bk, beta, gamma)*hs\n",
    "    c4 = fc(N, bk, gamma)*hs\n",
    "    a = a + (a1 + 2*(a2 + a3) + a4)/6\n",
    "    b = b + (b1 + 2*(b2 + b3) + b4)/6\n",
    "    c = c + (c1 + 2*(c2 + c3) + c4)/6\n",
    "    return a, b, c"
   ]
  },
  {
   "cell_type": "code",
   "execution_count": 23,
   "metadata": {},
   "outputs": [],
   "source": [
    "def SIR(N, b0, beta, gamma, hs):\n",
    "    \n",
    "    \"\"\"\n",
    "    N = total number of population\n",
    "    beta = transition rate S->I\n",
    "    gamma = transition rate I->R\n",
    "    k =  denotes the constant degree distribution of the network (average value for networks in which \n",
    "    the probability of finding a node with a different connectivity decays exponentially fast\n",
    "    hs = jump step of the numerical integration\n",
    "    \"\"\"\n",
    "    \n",
    "    # Initial condition\n",
    "    a = float(N-1)/N -b0\n",
    "    b = float(1)/N +b0\n",
    "    c = 0.\n",
    "\n",
    "    sus, inf, rec= [],[],[]\n",
    "    for i in range(10000): # Run for a certain number of time-steps\n",
    "        sus.append(a)\n",
    "        inf.append(b)\n",
    "        rec.append(c)\n",
    "        a,b,c = rK4(N, a, b, c, fa, fb, fc, beta, gamma, hs)\n",
    "\n",
    "    return sus, inf, rec"
   ]
  },
  {
   "cell_type": "code",
   "execution_count": 24,
   "metadata": {
    "scrolled": false
   },
   "outputs": [
    {
     "data": {
      "image/png": "[encoded data removed]",
      "text/plain": [
       "<Figure size 576x360 with 1 Axes>"
      ]
     },
     "metadata": {
      "needs_background": "light"
     },
     "output_type": "display_data"
    }
   ],
   "source": [
    "# fitting a test version to world population \n",
    "\n",
    "\n",
    "# Parameters of the model\n",
    "N = 7800*(10**6)\n",
    "b0 = 0\n",
    "beta = 0.7\n",
    "gamma = 0.2\n",
    "hs = 0.1\n",
    "\n",
    "sus, inf, rec = SIR(N, b0, beta, gamma, hs)\n",
    "\n",
    "f = plt.figure(figsize=(8,5)) \n",
    "plt.plot(sus, 'b.', label='susceptible');\n",
    "plt.plot(inf, 'r.', label='infected');\n",
    "plt.plot(rec, 'c.', label='recovered/deceased');\n",
    "plt.title(\"SIR model\")\n",
    "plt.xlabel(\"time\", fontsize=10);\n",
    "plt.ylabel(\"Fraction of population\", fontsize=10);\n",
    "plt.legend(loc='best')\n",
    "plt.xlim(0,1000)\n",
    "plt.savefig('SIR_example.png')\n",
    "plt.show()"
   ]
  },
  {
   "cell_type": "code",
   "execution_count": 133,
   "metadata": {},
   "outputs": [
    {
     "data": {
      "text/html": [
       "<div>\n",
       "<style scoped>\n",
       "    .dataframe tbody tr th:only-of-type {\n",
       "        vertical-align: middle;\n",
       "    }\n",
       "\n",
       "    .dataframe tbody tr th {\n",
       "        vertical-align: top;\n",
       "    }\n",
       "\n",
       "    .dataframe thead th {\n",
       "        text-align: right;\n",
       "    }\n",
       "</style>\n",
       "<table border=\"1\" class=\"dataframe\">\n",
       "  <thead>\n",
       "    <tr style=\"text-align: right;\">\n",
       "      <th></th>\n",
       "      <th>Id</th>\n",
       "      <th>Province_State</th>\n",
       "      <th>Country_Region</th>\n",
       "      <th>Date</th>\n",
       "      <th>ConfirmedCases</th>\n",
       "      <th>Fatalities</th>\n",
       "    </tr>\n",
       "  </thead>\n",
       "  <tbody>\n",
       "    <tr>\n",
       "      <th>16100</th>\n",
       "      <td>16101</td>\n",
       "      <td>None</td>\n",
       "      <td>India</td>\n",
       "      <td>2020-01-22</td>\n",
       "      <td>0.0</td>\n",
       "      <td>0.0</td>\n",
       "    </tr>\n",
       "    <tr>\n",
       "      <th>16101</th>\n",
       "      <td>16102</td>\n",
       "      <td>None</td>\n",
       "      <td>India</td>\n",
       "      <td>2020-01-23</td>\n",
       "      <td>0.0</td>\n",
       "      <td>0.0</td>\n",
       "    </tr>\n",
       "    <tr>\n",
       "      <th>16102</th>\n",
       "      <td>16103</td>\n",
       "      <td>None</td>\n",
       "      <td>India</td>\n",
       "      <td>2020-01-24</td>\n",
       "      <td>0.0</td>\n",
       "      <td>0.0</td>\n",
       "    </tr>\n",
       "    <tr>\n",
       "      <th>16103</th>\n",
       "      <td>16104</td>\n",
       "      <td>None</td>\n",
       "      <td>India</td>\n",
       "      <td>2020-01-25</td>\n",
       "      <td>0.0</td>\n",
       "      <td>0.0</td>\n",
       "    </tr>\n",
       "    <tr>\n",
       "      <th>16104</th>\n",
       "      <td>16105</td>\n",
       "      <td>None</td>\n",
       "      <td>India</td>\n",
       "      <td>2020-01-26</td>\n",
       "      <td>0.0</td>\n",
       "      <td>0.0</td>\n",
       "    </tr>\n",
       "  </tbody>\n",
       "</table>\n",
       "</div>"
      ],
      "text/plain": [
       "          Id Province_State Country_Region        Date  ConfirmedCases  \\\n",
       "16100  16101           None          India  2020-01-22             0.0   \n",
       "16101  16102           None          India  2020-01-23             0.0   \n",
       "16102  16103           None          India  2020-01-24             0.0   \n",
       "16103  16104           None          India  2020-01-25             0.0   \n",
       "16104  16105           None          India  2020-01-26             0.0   \n",
       "\n",
       "       Fatalities  \n",
       "16100         0.0  \n",
       "16101         0.0  \n",
       "16102         0.0  \n",
       "16103         0.0  \n",
       "16104         0.0  "
      ]
     },
     "execution_count": 133,
     "metadata": {},
     "output_type": "execute_result"
    }
   ],
   "source": [
    "df2.head() # 2020-01-22 to 2020-05-15\n"
   ]
  },
  {
   "cell_type": "code",
   "execution_count": 60,
   "metadata": {},
   "outputs": [
    {
     "data": {
      "image/png": "[encoded data removed]",
      "text/plain": [
       "<Figure size 432x288 with 1 Axes>"
      ]
     },
     "metadata": {
      "needs_background": "light"
     },
     "output_type": "display_data"
    },
    {
     "name": "stdout",
     "output_type": "stream",
     "text": [
      "Optimal parameters: beta = 10.39139360402267  and gamma =  10.259857617401726\n"
     ]
    }
   ],
   "source": [
    "population = float(46750238)\n",
    "country_df = pd.DataFrame()\n",
    "country_df['ConfirmedCases'] = df2.loc[df2['Country_Region']=='India'].ConfirmedCases.diff().fillna(0)\n",
    "country_df = country_df[47:]\n",
    "country_df['day_count'] = list(range(1,len(country_df)+1))\n",
    "\n",
    "ydata = [i for i in country_df.ConfirmedCases]\n",
    "xdata = country_df.day_count\n",
    "ydata = np.array(ydata, dtype=float)\n",
    "xdata = np.array(xdata, dtype=float)\n",
    "\n",
    "N = population\n",
    "inf0 = ydata[0]\n",
    "sus0 = N - inf0\n",
    "rec0 = 0.0\n",
    "\n",
    "def sir_model(y, x, beta, gamma):\n",
    "    sus = -beta * y[0] * y[1] / N\n",
    "    rec = gamma * y[1]\n",
    "    inf = -(sus + rec)\n",
    "    return sus, inf, rec\n",
    "\n",
    "def fit_odeint(x, beta, gamma):\n",
    "    return integrate.odeint(sir_model, (sus0, inf0, rec0), x, args=(beta, gamma))[:,1]\n",
    "\n",
    "popt, pcov = optimize.curve_fit(fit_odeint, xdata, ydata)\n",
    "fitted = fit_odeint(xdata, *popt)\n",
    "\n",
    "plt.plot(xdata, ydata, 'o')\n",
    "plt.plot(xdata, fitted)\n",
    "plt.title(\"Fit of SIR model for India infected cases\")\n",
    "plt.ylabel(\"Population infected\")\n",
    "plt.xlabel(\"Days\")\n",
    "plt.show()\n",
    "print(\"Optimal parameters: beta =\", popt[0], \" and gamma = \", popt[1])"
   ]
  },
  {
   "cell_type": "markdown",
   "metadata": {},
   "source": [
    "I'm not happy with the fit of parameters and I want to work more on this, since I'm not properly reproducing the curves. I'll keep working on this for curiosity, but in the meanwhile I'll develop a data-centric approach to the prediction."
   ]
  },
  {
   "cell_type": "code",
   "execution_count": 70,
   "metadata": {},
   "outputs": [
    {
     "data": {
      "text/plain": [
       "Text(0, 0.5, 'Log ConfirmedCases')"
      ]
     },
     "execution_count": 70,
     "metadata": {},
     "output_type": "execute_result"
    },
    {
     "data": {
      "image/png": "[encoded data removed]",
      "text/plain": [
       "<Figure size 1080x432 with 2 Axes>"
      ]
     },
     "metadata": {
      "needs_background": "light"
     },
     "output_type": "display_data"
    }
   ],
   "source": [
    "fig, (ax1, ax2) = plt.subplots(1, 2, figsize=(15,6))\n",
    "\n",
    "# Day_num = 38 is March 1st\n",
    "y1 = country_df['ConfirmedCases'][47:]\n",
    "x1 = range(0, len(y1))\n",
    "ax1.plot(x1, y1, 'bo--')\n",
    "ax1.set_title(\"India ConfirmedCases\")\n",
    "ax1.set_xlabel(\"Days\")\n",
    "ax1.set_ylabel(\"ConfirmedCases\")\n",
    "\n",
    "y2 = country_df['ConfirmedCases'][47:].apply(lambda x: np.log(x))\n",
    "x2 = range(0, len(y2))\n",
    "ax2.plot(x2, y2, 'bo--')\n",
    "ax2.set_title(\"India Log ConfirmedCases\")\n",
    "ax2.set_xlabel(\"Days\")\n",
    "ax2.set_ylabel(\"Log ConfirmedCases\")"
   ]
  },
  {
   "cell_type": "code",
   "execution_count": 78,
   "metadata": {
    "scrolled": true
   },
   "outputs": [],
   "source": [
    "from sklearn.linear_model import LinearRegression "
   ]
  },
  {
   "cell_type": "code",
   "execution_count": 79,
   "metadata": {},
   "outputs": [],
   "source": [
    "model=LinearRegression(fit_intercept=True)"
   ]
  },
  {
   "cell_type": "code",
   "execution_count": 80,
   "metadata": {},
   "outputs": [
    {
     "data": {
      "text/plain": [
       "LinearRegression(copy_X=True, fit_intercept=True, n_jobs=None, normalize=False)"
      ]
     },
     "execution_count": 80,
     "metadata": {},
     "output_type": "execute_result"
    }
   ],
   "source": [
    "model"
   ]
  },
  {
   "cell_type": "code",
   "execution_count": 120,
   "metadata": {},
   "outputs": [],
   "source": [
    "#massage the data x into a specific X matrix of n= samples and n-features - ie: reshape the 1 dimensional array x \n",
    "\n",
    "# X=df2[45:,:] \n",
    "# X.shape\n",
    "X=df2.iloc[10:,4]\n",
    "y=df2.iloc[10:,-1]\n",
    "X=pd.Series()"
   ]
  },
  {
   "cell_type": "code",
   "execution_count": 121,
   "metadata": {},
   "outputs": [
    {
     "data": {
      "text/plain": [
       "(105,)"
      ]
     },
     "execution_count": 121,
     "metadata": {},
     "output_type": "execute_result"
    }
   ],
   "source": [
    "X.shape\n"
   ]
  },
  {
   "cell_type": "code",
   "execution_count": 122,
   "metadata": {},
   "outputs": [
    {
     "data": {
      "text/plain": [
       "(105,)"
      ]
     },
     "execution_count": 122,
     "metadata": {},
     "output_type": "execute_result"
    }
   ],
   "source": [
    "y.shape"
   ]
  },
  {
   "cell_type": "code",
   "execution_count": 125,
   "metadata": {},
   "outputs": [],
   "source": [
    "X=np.array(X).reshape(-1,1)\n",
    "y=np.array(y).reshape(-1,1)\n"
   ]
  },
  {
   "cell_type": "code",
   "execution_count": 126,
   "metadata": {},
   "outputs": [
    {
     "data": {
      "text/plain": [
       "(105, 1)"
      ]
     },
     "execution_count": 126,
     "metadata": {},
     "output_type": "execute_result"
    }
   ],
   "source": [
    "X.shape"
   ]
  },
  {
   "cell_type": "code",
   "execution_count": 127,
   "metadata": {},
   "outputs": [
    {
     "data": {
      "text/plain": [
       "(105, 1)"
      ]
     },
     "execution_count": 127,
     "metadata": {},
     "output_type": "execute_result"
    }
   ],
   "source": [
    "y.shape"
   ]
  },
  {
   "cell_type": "code",
   "execution_count": 128,
   "metadata": {},
   "outputs": [
    {
     "data": {
      "text/plain": [
       "LinearRegression(copy_X=True, fit_intercept=True, n_jobs=None, normalize=False)"
      ]
     },
     "execution_count": 128,
     "metadata": {},
     "output_type": "execute_result"
    }
   ],
   "source": [
    "#fit model to data \n",
    "model.fit(X,y)"
   ]
  },
  {
   "cell_type": "code",
   "execution_count": 129,
   "metadata": {},
   "outputs": [
    {
     "data": {
      "text/plain": [
       "array([[0.03281676]])"
      ]
     },
     "execution_count": 129,
     "metadata": {},
     "output_type": "execute_result"
    }
   ],
   "source": [
    "model.coef_ "
   ]
  },
  {
   "cell_type": "code",
   "execution_count": 130,
   "metadata": {},
   "outputs": [
    {
     "data": {
      "text/plain": [
       "array([-2.48389913])"
      ]
     },
     "execution_count": 130,
     "metadata": {},
     "output_type": "execute_result"
    }
   ],
   "source": [
    "model.intercept_"
   ]
  },
  {
   "cell_type": "code",
   "execution_count": null,
   "metadata": {},
   "outputs": [],
   "source": []
  }
 ],
 "metadata": {
  "kernelspec": {
   "display_name": "Python 3",
   "language": "python",
   "name": "python3"
  },
  "language_info": {
   "codemirror_mode": {
    "name": "ipython",
    "version": 3
   },
   "file_extension": ".py",
   "mimetype": "text/x-python",
   "name": "python",
   "nbconvert_exporter": "python",
   "pygments_lexer": "ipython3",
   "version": "3.7.6"
  }
 },
 "nbformat": 4,
 "nbformat_minor": 4
}
